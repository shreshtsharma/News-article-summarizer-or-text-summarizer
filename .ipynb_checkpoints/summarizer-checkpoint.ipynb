{
 "cells": [
  {
   "cell_type": "code",
   "execution_count": 2,
   "metadata": {},
   "outputs": [],
   "source": [
    "text = \"\"\"\n",
    "There are broadly two types of extractive summarization tasks depending on what the summarization program focuses on.\n",
    "The first is generic summarization, which focuses on obtaining a generic summary or abstract of the collection (whether documents, or sets of images, or videos, news stories etc.).\n",
    "The second is query relevant summarization, sometimes called query-based summarization, which summarizes objects specific to a query.\n",
    "Summarization systems are able to create both query relevant text summaries and generic machine-generated summaries depending on what the user needs.\n",
    "An example of a summarization problem is document summarization, which attempts to automatically produce an abstract from a given document.\n",
    "Sometimes one might be interested in generating a summary from a single source document, while others can use multiple source documents (for example, a cluster of articles on the same topic).\n",
    "This problem is called multi-document summarization. A related application is summarizing news articles.\n",
    "Imagine a system, which automatically pulls together news articles on a given topic (from the web), and concisely represents the latest news as a summary.\n",
    "Image collection summarization is another application example of automatic summarization.\n",
    "It consists in selecting a representative set of images from a larger set of images.\n",
    "[3] A summary in this context is useful to show the most representative images of results in an image collection exploration system. \n",
    "Video summarization is a related domain, where the system automatically creates a trailer of a long video. This also has applications in consumer or personal videos, where one might want to skip the boring or repetitive actions.\n",
    "Similarly, in surveillance videos, one would want to extract important and suspicious activity, while ignoring all the boring and redundant frames captured.\"\"\""
   ]
  },
  {
   "cell_type": "code",
   "execution_count": 3,
   "metadata": {},
   "outputs": [],
   "source": [
    "import nltk\n",
    "from nltk.corpus import stopwords\n",
    "from string import punctuation"
   ]
  },
  {
   "cell_type": "code",
   "execution_count": 4,
   "metadata": {},
   "outputs": [
    {
     "data": {
      "text/plain": [
       "['i',\n",
       " 'me',\n",
       " 'my',\n",
       " 'myself',\n",
       " 'we',\n",
       " 'our',\n",
       " 'ours',\n",
       " 'ourselves',\n",
       " 'you',\n",
       " \"you're\",\n",
       " \"you've\",\n",
       " \"you'll\",\n",
       " \"you'd\",\n",
       " 'your',\n",
       " 'yours',\n",
       " 'yourself',\n",
       " 'yourselves',\n",
       " 'he',\n",
       " 'him',\n",
       " 'his',\n",
       " 'himself',\n",
       " 'she',\n",
       " \"she's\",\n",
       " 'her',\n",
       " 'hers',\n",
       " 'herself',\n",
       " 'it',\n",
       " \"it's\",\n",
       " 'its',\n",
       " 'itself',\n",
       " 'they',\n",
       " 'them',\n",
       " 'their',\n",
       " 'theirs',\n",
       " 'themselves',\n",
       " 'what',\n",
       " 'which',\n",
       " 'who',\n",
       " 'whom',\n",
       " 'this',\n",
       " 'that',\n",
       " \"that'll\",\n",
       " 'these',\n",
       " 'those',\n",
       " 'am',\n",
       " 'is',\n",
       " 'are',\n",
       " 'was',\n",
       " 'were',\n",
       " 'be',\n",
       " 'been',\n",
       " 'being',\n",
       " 'have',\n",
       " 'has',\n",
       " 'had',\n",
       " 'having',\n",
       " 'do',\n",
       " 'does',\n",
       " 'did',\n",
       " 'doing',\n",
       " 'a',\n",
       " 'an',\n",
       " 'the',\n",
       " 'and',\n",
       " 'but',\n",
       " 'if',\n",
       " 'or',\n",
       " 'because',\n",
       " 'as',\n",
       " 'until',\n",
       " 'while',\n",
       " 'of',\n",
       " 'at',\n",
       " 'by',\n",
       " 'for',\n",
       " 'with',\n",
       " 'about',\n",
       " 'against',\n",
       " 'between',\n",
       " 'into',\n",
       " 'through',\n",
       " 'during',\n",
       " 'before',\n",
       " 'after',\n",
       " 'above',\n",
       " 'below',\n",
       " 'to',\n",
       " 'from',\n",
       " 'up',\n",
       " 'down',\n",
       " 'in',\n",
       " 'out',\n",
       " 'on',\n",
       " 'off',\n",
       " 'over',\n",
       " 'under',\n",
       " 'again',\n",
       " 'further',\n",
       " 'then',\n",
       " 'once',\n",
       " 'here',\n",
       " 'there',\n",
       " 'when',\n",
       " 'where',\n",
       " 'why',\n",
       " 'how',\n",
       " 'all',\n",
       " 'any',\n",
       " 'both',\n",
       " 'each',\n",
       " 'few',\n",
       " 'more',\n",
       " 'most',\n",
       " 'other',\n",
       " 'some',\n",
       " 'such',\n",
       " 'no',\n",
       " 'nor',\n",
       " 'not',\n",
       " 'only',\n",
       " 'own',\n",
       " 'same',\n",
       " 'so',\n",
       " 'than',\n",
       " 'too',\n",
       " 'very',\n",
       " 's',\n",
       " 't',\n",
       " 'can',\n",
       " 'will',\n",
       " 'just',\n",
       " 'don',\n",
       " \"don't\",\n",
       " 'should',\n",
       " \"should've\",\n",
       " 'now',\n",
       " 'd',\n",
       " 'll',\n",
       " 'm',\n",
       " 'o',\n",
       " 're',\n",
       " 've',\n",
       " 'y',\n",
       " 'ain',\n",
       " 'aren',\n",
       " \"aren't\",\n",
       " 'couldn',\n",
       " \"couldn't\",\n",
       " 'didn',\n",
       " \"didn't\",\n",
       " 'doesn',\n",
       " \"doesn't\",\n",
       " 'hadn',\n",
       " \"hadn't\",\n",
       " 'hasn',\n",
       " \"hasn't\",\n",
       " 'haven',\n",
       " \"haven't\",\n",
       " 'isn',\n",
       " \"isn't\",\n",
       " 'ma',\n",
       " 'mightn',\n",
       " \"mightn't\",\n",
       " 'mustn',\n",
       " \"mustn't\",\n",
       " 'needn',\n",
       " \"needn't\",\n",
       " 'shan',\n",
       " \"shan't\",\n",
       " 'shouldn',\n",
       " \"shouldn't\",\n",
       " 'wasn',\n",
       " \"wasn't\",\n",
       " 'weren',\n",
       " \"weren't\",\n",
       " 'won',\n",
       " \"won't\",\n",
       " 'wouldn',\n",
       " \"wouldn't\"]"
      ]
     },
     "execution_count": 4,
     "metadata": {},
     "output_type": "execute_result"
    }
   ],
   "source": [
    "# nltk.download('stopwords')\n",
    "stops=list(stopwords.words('english'))\n",
    "stops"
   ]
  },
  {
   "cell_type": "code",
   "execution_count": null,
   "metadata": {},
   "outputs": [],
   "source": []
  },
  {
   "cell_type": "markdown",
   "metadata": {},
   "source": [
    "TOKENIZING SENTENCES"
   ]
  },
  {
   "cell_type": "code",
   "execution_count": 22,
   "metadata": {},
   "outputs": [
    {
     "name": "stdout",
     "output_type": "stream",
     "text": [
      "['\\nThere are broadly two types of extractive summarization tasks depending on what the summarization program focuses on.', 'The first is generic summarization, which focuses on obtaining a generic summary or abstract of the collection (whether documents, or sets of images, or videos, news stories etc.).', 'The second is query relevant summarization, sometimes called query-based summarization, which summarizes objects specific to a query.', 'Summarization systems are able to create both query relevant text summaries and generic machine-generated summaries depending on what the user needs.', 'An example of a summarization problem is document summarization, which attempts to automatically produce an abstract from a given document.', 'Sometimes one might be interested in generating a summary from a single source document, while others can use multiple source documents (for example, a cluster of articles on the same topic).', 'This problem is called multi-document summarization.', 'A related application is summarizing news articles.', 'Imagine a system, which automatically pulls together news articles on a given topic (from the web), and concisely represents the latest news as a summary.', 'Image collection summarization is another application example of automatic summarization.', 'It consists in selecting a representative set of images from a larger set of images.', '[3] A summary in this context is useful to show the most representative images of results in an image collection exploration system.', 'Video summarization is a related domain, where the system automatically creates a trailer of a long video.', 'This also has applications in consumer or personal videos, where one might want to skip the boring or repetitive actions.', 'Similarly, in surveillance videos, one would want to extract important and suspicious activity, while ignoring all the boring and redundant frames captured.']\n"
     ]
    }
   ],
   "source": [
    "# nltk.download('punkt')\n",
    "from nltk.tokenize import sent_tokenize\n",
    "sentences=sent_tokenize(text)\n",
    "# print(type(sentences))\n",
    "print(sentences)"
   ]
  },
  {
   "cell_type": "markdown",
   "metadata": {},
   "source": [
    "TOKENIZING WORDS"
   ]
  },
  {
   "cell_type": "code",
   "execution_count": 6,
   "metadata": {},
   "outputs": [
    {
     "name": "stdout",
     "output_type": "stream",
     "text": [
      "['There', 'are', 'broadly', 'two', 'types', 'of', 'extractive', 'summarization', 'tasks', 'depending', 'on', 'what', 'the', 'summarization', 'program', 'focuses', 'on', '.', 'The', 'first', 'is', 'generic', 'summarization', ',', 'which', 'focuses', 'on', 'obtaining', 'a', 'generic', 'summary', 'or', 'abstract', 'of', 'the', 'collection', '(', 'whether', 'documents', ',', 'or', 'sets', 'of', 'images', ',', 'or', 'videos', ',', 'news', 'stories', 'etc.', ')', '.', 'The', 'second', 'is', 'query', 'relevant', 'summarization', ',', 'sometimes', 'called', 'query-based', 'summarization', ',', 'which', 'summarizes', 'objects', 'specific', 'to', 'a', 'query', '.', 'Summarization', 'systems', 'are', 'able', 'to', 'create', 'both', 'query', 'relevant', 'text', 'summaries', 'and', 'generic', 'machine-generated', 'summaries', 'depending', 'on', 'what', 'the', 'user', 'needs', '.', 'An', 'example', 'of', 'a', 'summarization', 'problem', 'is', 'document', 'summarization', ',', 'which', 'attempts', 'to', 'automatically', 'produce', 'an', 'abstract', 'from', 'a', 'given', 'document', '.', 'Sometimes', 'one', 'might', 'be', 'interested', 'in', 'generating', 'a', 'summary', 'from', 'a', 'single', 'source', 'document', ',', 'while', 'others', 'can', 'use', 'multiple', 'source', 'documents', '(', 'for', 'example', ',', 'a', 'cluster', 'of', 'articles', 'on', 'the', 'same', 'topic', ')', '.', 'This', 'problem', 'is', 'called', 'multi-document', 'summarization', '.', 'A', 'related', 'application', 'is', 'summarizing', 'news', 'articles', '.', 'Imagine', 'a', 'system', ',', 'which', 'automatically', 'pulls', 'together', 'news', 'articles', 'on', 'a', 'given', 'topic', '(', 'from', 'the', 'web', ')', ',', 'and', 'concisely', 'represents', 'the', 'latest', 'news', 'as', 'a', 'summary', '.', 'Image', 'collection', 'summarization', 'is', 'another', 'application', 'example', 'of', 'automatic', 'summarization', '.', 'It', 'consists', 'in', 'selecting', 'a', 'representative', 'set', 'of', 'images', 'from', 'a', 'larger', 'set', 'of', 'images', '.', '[', '3', ']', 'A', 'summary', 'in', 'this', 'context', 'is', 'useful', 'to', 'show', 'the', 'most', 'representative', 'images', 'of', 'results', 'in', 'an', 'image', 'collection', 'exploration', 'system', '.', 'Video', 'summarization', 'is', 'a', 'related', 'domain', ',', 'where', 'the', 'system', 'automatically', 'creates', 'a', 'trailer', 'of', 'a', 'long', 'video', '.', 'This', 'also', 'has', 'applications', 'in', 'consumer', 'or', 'personal', 'videos', ',', 'where', 'one', 'might', 'want', 'to', 'skip', 'the', 'boring', 'or', 'repetitive', 'actions', '.', 'Similarly', ',', 'in', 'surveillance', 'videos', ',', 'one', 'would', 'want', 'to', 'extract', 'important', 'and', 'suspicious', 'activity', ',', 'while', 'ignoring', 'all', 'the', 'boring', 'and', 'redundant', 'frames', 'captured', '.']\n"
     ]
    }
   ],
   "source": [
    "from nltk.tokenize import word_tokenize\n",
    "words=word_tokenize(text)\n",
    "print(words)"
   ]
  },
  {
   "cell_type": "markdown",
   "metadata": {},
   "source": [
    "MAKING WORD FREQUENCY TABLE\n"
   ]
  },
  {
   "cell_type": "code",
   "execution_count": 7,
   "metadata": {},
   "outputs": [
    {
     "name": "stdout",
     "output_type": "stream",
     "text": [
      "{'broadly': 1, 'two': 1, 'types': 1, 'extractive': 1, 'summarization': 12, 'tasks': 1, 'depending': 2, 'program': 1, 'focuses': 2, 'first': 1, 'generic': 3, 'obtaining': 1, 'summary': 4, 'abstract': 2, 'collection': 3, 'whether': 1, 'documents': 2, 'sets': 1, 'images': 4, 'videos': 3, 'news': 4, 'stories': 1, 'etc.': 1, 'second': 1, 'query': 3, 'relevant': 2, 'sometimes': 2, 'called': 2, 'query-based': 1, 'summarizes': 1, 'objects': 1, 'specific': 1, 'systems': 1, 'able': 1, 'create': 1, 'text': 1, 'summaries': 2, 'machine-generated': 1, 'user': 1, 'needs': 1, 'example': 3, 'problem': 2, 'document': 3, 'attempts': 1, 'automatically': 3, 'produce': 1, 'given': 2, 'one': 3, 'might': 2, 'interested': 1, 'generating': 1, 'single': 1, 'source': 2, 'others': 1, 'use': 1, 'multiple': 1, 'cluster': 1, 'articles': 3, 'topic': 2, 'multi-document': 1, 'related': 2, 'application': 2, 'summarizing': 1, 'imagine': 1, 'system': 3, 'pulls': 1, 'together': 1, 'web': 1, 'concisely': 1, 'represents': 1, 'latest': 1, 'image': 2, 'another': 1, 'automatic': 1, 'consists': 1, 'selecting': 1, 'representative': 2, 'set': 2, 'larger': 1, '3': 1, 'context': 1, 'useful': 1, 'show': 1, 'results': 1, 'exploration': 1, 'video': 2, 'domain': 1, 'creates': 1, 'trailer': 1, 'long': 1, 'also': 1, 'applications': 1, 'consumer': 1, 'personal': 1, 'want': 2, 'skip': 1, 'boring': 2, 'repetitive': 1, 'actions': 1, 'similarly': 1, 'surveillance': 1, 'would': 1, 'extract': 1, 'important': 1, 'suspicious': 1, 'activity': 1, 'ignoring': 1, 'redundant': 1, 'frames': 1, 'captured': 1}\n"
     ]
    }
   ],
   "source": [
    "word_frequency={}\n",
    "for word in words:\n",
    "    if word.lower() not in stops:\n",
    "        if word.lower() not in punctuation:\n",
    "            if word.lower() not in word_frequency.keys():\n",
    "                word_frequency[word.lower()]=1\n",
    "            else:\n",
    "                word_frequency[word.lower()]+=1\n",
    "\n",
    "print(word_frequency)"
   ]
  },
  {
   "cell_type": "markdown",
   "metadata": {},
   "source": [
    "NORMALIZING WORD FREQUENCIES "
   ]
  },
  {
   "cell_type": "code",
   "execution_count": 10,
   "metadata": {},
   "outputs": [
    {
     "name": "stdout",
     "output_type": "stream",
     "text": [
      "{'broadly': 0.08333333333333333, 'two': 0.08333333333333333, 'types': 0.08333333333333333, 'extractive': 0.08333333333333333, 'summarization': 1.0, 'tasks': 0.08333333333333333, 'depending': 0.16666666666666666, 'program': 0.08333333333333333, 'focuses': 0.16666666666666666, 'first': 0.08333333333333333, 'generic': 0.25, 'obtaining': 0.08333333333333333, 'summary': 0.3333333333333333, 'abstract': 0.16666666666666666, 'collection': 0.25, 'whether': 0.08333333333333333, 'documents': 0.16666666666666666, 'sets': 0.08333333333333333, 'images': 0.3333333333333333, 'videos': 0.25, 'news': 0.3333333333333333, 'stories': 0.08333333333333333, 'etc.': 0.08333333333333333, 'second': 0.08333333333333333, 'query': 0.25, 'relevant': 0.16666666666666666, 'sometimes': 0.16666666666666666, 'called': 0.16666666666666666, 'query-based': 0.08333333333333333, 'summarizes': 0.08333333333333333, 'objects': 0.08333333333333333, 'specific': 0.08333333333333333, 'systems': 0.08333333333333333, 'able': 0.08333333333333333, 'create': 0.08333333333333333, 'text': 0.08333333333333333, 'summaries': 0.16666666666666666, 'machine-generated': 0.08333333333333333, 'user': 0.08333333333333333, 'needs': 0.08333333333333333, 'example': 0.25, 'problem': 0.16666666666666666, 'document': 0.25, 'attempts': 0.08333333333333333, 'automatically': 0.25, 'produce': 0.08333333333333333, 'given': 0.16666666666666666, 'one': 0.25, 'might': 0.16666666666666666, 'interested': 0.08333333333333333, 'generating': 0.08333333333333333, 'single': 0.08333333333333333, 'source': 0.16666666666666666, 'others': 0.08333333333333333, 'use': 0.08333333333333333, 'multiple': 0.08333333333333333, 'cluster': 0.08333333333333333, 'articles': 0.25, 'topic': 0.16666666666666666, 'multi-document': 0.08333333333333333, 'related': 0.16666666666666666, 'application': 0.16666666666666666, 'summarizing': 0.08333333333333333, 'imagine': 0.08333333333333333, 'system': 0.25, 'pulls': 0.08333333333333333, 'together': 0.08333333333333333, 'web': 0.08333333333333333, 'concisely': 0.08333333333333333, 'represents': 0.08333333333333333, 'latest': 0.08333333333333333, 'image': 0.16666666666666666, 'another': 0.08333333333333333, 'automatic': 0.08333333333333333, 'consists': 0.08333333333333333, 'selecting': 0.08333333333333333, 'representative': 0.16666666666666666, 'set': 0.16666666666666666, 'larger': 0.08333333333333333, '3': 0.08333333333333333, 'context': 0.08333333333333333, 'useful': 0.08333333333333333, 'show': 0.08333333333333333, 'results': 0.08333333333333333, 'exploration': 0.08333333333333333, 'video': 0.16666666666666666, 'domain': 0.08333333333333333, 'creates': 0.08333333333333333, 'trailer': 0.08333333333333333, 'long': 0.08333333333333333, 'also': 0.08333333333333333, 'applications': 0.08333333333333333, 'consumer': 0.08333333333333333, 'personal': 0.08333333333333333, 'want': 0.16666666666666666, 'skip': 0.08333333333333333, 'boring': 0.16666666666666666, 'repetitive': 0.08333333333333333, 'actions': 0.08333333333333333, 'similarly': 0.08333333333333333, 'surveillance': 0.08333333333333333, 'would': 0.08333333333333333, 'extract': 0.08333333333333333, 'important': 0.08333333333333333, 'suspicious': 0.08333333333333333, 'activity': 0.08333333333333333, 'ignoring': 0.08333333333333333, 'redundant': 0.08333333333333333, 'frames': 0.08333333333333333, 'captured': 0.08333333333333333}\n"
     ]
    }
   ],
   "source": [
    "maxi=max(word_frequency.values())\n",
    "for key in word_frequency.keys():\n",
    "    word_frequency[key]/=maxi\n",
    "\n",
    "print(word_frequency)"
   ]
  },
  {
   "cell_type": "code",
   "execution_count": 31,
   "metadata": {},
   "outputs": [
    {
     "data": {
      "text/plain": [
       "{'\\nThere are broadly two types of extractive summarization tasks depending on what the summarization program focuses on.': 1.0,\n",
       " 'The first is generic summarization, which focuses on obtaining a generic summary or abstract of the collection (whether documents, or sets of images, or videos, news stories etc.).': 0.735294117647059,\n",
       " 'The second is query relevant summarization, sometimes called query-based summarization, which summarizes objects specific to a query.': 0.4117647058823529,\n",
       " 'Summarization systems are able to create both query relevant text summaries and generic machine-generated summaries depending on what the user needs.': 0.9411764705882354,\n",
       " 'An example of a summarization problem is document summarization, which attempts to automatically produce an abstract from a given document.': 0.8529411764705883,\n",
       " 'Sometimes one might be interested in generating a summary from a single source document, while others can use multiple source documents (for example, a cluster of articles on the same topic).': 0.7941176470588236,\n",
       " 'This problem is called multi-document summarization.': 0.14705882352941177,\n",
       " 'A related application is summarizing news articles.': 0.2647058823529412,\n",
       " 'Imagine a system, which automatically pulls together news articles on a given topic (from the web), and concisely represents the latest news as a summary.': 0.7058823529411765,\n",
       " 'Image collection summarization is another application example of automatic summarization.': 0.7058823529411765,\n",
       " 'It consists in selecting a representative set of images from a larger set of images.': 0.3823529411764706,\n",
       " '[3] A summary in this context is useful to show the most representative images of results in an image collection exploration system.': 0.5882352941176471,\n",
       " 'Video summarization is a related domain, where the system automatically creates a trailer of a long video.': 0.735294117647059,\n",
       " 'This also has applications in consumer or personal videos, where one might want to skip the boring or repetitive actions.': 0.4411764705882353,\n",
       " 'Similarly, in surveillance videos, one would want to extract important and suspicious activity, while ignoring all the boring and redundant frames captured.': 0.44117647058823534}"
      ]
     },
     "execution_count": 31,
     "metadata": {},
     "output_type": "execute_result"
    }
   ],
   "source": [
    " sentence_importance = {}\n",
    "\n",
    "for sent in sentences:\n",
    "    words=sent.split()\n",
    "    for word in words:\n",
    "        if word.lower() in word_frequency:\n",
    "            if sent not in sentence_importance:\n",
    "                sentence_importance[sent]=word_frequency[word.lower()]\n",
    "            else:\n",
    "                sentence_importance[sent]+=word_frequency[word.lower()]\n",
    "                \n",
    "                \n",
    "\n",
    "maximum=max(sentence_importance.values())\n",
    "\n",
    "for key in sentence_importance:\n",
    "    sentence_importance[key]/=maximum\n",
    "sentence_importance\n",
    "    \n",
    "\n",
    "    \n"
   ]
  },
  {
   "cell_type": "code",
   "execution_count": 32,
   "metadata": {},
   "outputs": [
    {
     "name": "stdout",
     "output_type": "stream",
     "text": [
      "['\\nThere are broadly two types of extractive summarization tasks depending on what the summarization program focuses on.', 'Summarization systems are able to create both query relevant text summaries and generic machine-generated summaries depending on what the user needs.', 'An example of a summarization problem is document summarization, which attempts to automatically produce an abstract from a given document.']\n"
     ]
    }
   ],
   "source": [
    "from heapq import nlargest\n",
    "sentences_selected=int(len(sentences)*0.2)\n",
    "final_sentences=nlargest(sentences_selected,sentence_importance,key=sentence_importance.get)\n",
    "print(final_sentences)"
   ]
  },
  {
   "cell_type": "code",
   "execution_count": 33,
   "metadata": {},
   "outputs": [
    {
     "name": "stdout",
     "output_type": "stream",
     "text": [
      "\n",
      "There are broadly two types of extractive summarization tasks depending on what the summarization program focuses on. Summarization systems are able to create both query relevant text summaries and generic machine-generated summaries depending on what the user needs. An example of a summarization problem is document summarization, which attempts to automatically produce an abstract from a given document.\n"
     ]
    }
   ],
   "source": [
    "summary=' '.join(final_sentences)\n",
    "print(summary)"
   ]
  },
  {
   "cell_type": "code",
   "execution_count": null,
   "metadata": {},
   "outputs": [],
   "source": []
  }
 ],
 "metadata": {
  "kernelspec": {
   "display_name": "Python 3 (ipykernel)",
   "language": "python",
   "name": "python3"
  },
  "language_info": {
   "codemirror_mode": {
    "name": "ipython",
    "version": 3
   },
   "file_extension": ".py",
   "mimetype": "text/x-python",
   "name": "python",
   "nbconvert_exporter": "python",
   "pygments_lexer": "ipython3",
   "version": "3.11.4"
  }
 },
 "nbformat": 4,
 "nbformat_minor": 2
}
